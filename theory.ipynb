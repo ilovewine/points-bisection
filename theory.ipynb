{
 "cells": [
  {
   "cell_type": "markdown",
   "id": "053d43d8-4401-44d7-9f03-c89ee51387d1",
   "metadata": {},
   "source": [
    "# Mathematical Model\n",
    "\n",
    "The problem of splitting points into two groups is equally similar to the unweighted bisection graph problem. \n",
    "\n",
    "**Given**: a file with the following information - number of points, `dist` value and points' coordinates.\n",
    "`dist` is the value that determines whether two points are close (i.e., the Euclidean metric is smaller than `dist`).\n",
    "\n",
    "**Goal**: split the points into two groups so that the number of the closest points between these groups is minimal.\n",
    "\n",
    "Let $G=(V,E)$ be a joined graph, where $V$ is a set of vertices - each vertex $v_i$ associated with a point $p_i$. Moreover, let's assume that \n",
    "#### $$\\forall_{e \\in {V\\choose 2}} v_1v_2 = e \\in E \\Leftrightarrow  d(v_1,v_2) \\leq dist$$\n",
    "\n",
    "\n",
    "### Algorithm\n",
    "\n",
    "1. Set up the starting graph's adjacency matrix $A=(a_{ij})= \\left\\{ \\begin{array}{rcl}\n",
    "1 & \\mbox{when}\n",
    "& v_iv_j \\in E \\\\ 0 & \\mbox{otherwise} & \n",
    "\\end{array}\\right.$\n",
    "2. Construct discrete Laplacian $L=D-A$, where $D=I\\cdot (d(v_1) \\dots d(v_n))^T$\n",
    "3. Determine the eigen system of $L$\n",
    "4. Find Fiedler value $\\mu_2$ alongside with its corresponing Fiedler vector $u_2=(x_1, x_2 \\dots x_n)$\n",
    "5. Determine the median $M$ of the elements of $x=\\sqrt{n} u_2$, where $n=\\#V$\n",
    "6. Let $V_1 = V_2 = V_3 = \\emptyset$\n",
    "7. Let $i=1\\dots n$. If $x_i < M$ then $V_1 := V_1 \\cup \\{p_i\\}$. If $x_i > M$ then $V_2 := V_2 \\cup \\{p_i\\}$.\n",
    "8. If $x_i = M$ then $V_3 := V_3 \\cup \\{p_i\\}$. $V_3$ is a set of points that will be distributed equally between $V_1$ and $V_2$ at the end of the algorithm."
   ]
  }
 ],
 "metadata": {
  "kernelspec": {
   "display_name": "Javascript (Node.js)",
   "language": "javascript",
   "name": "javascript"
  },
  "language_info": {
   "file_extension": ".js",
   "mimetype": "application/javascript",
   "name": "javascript",
   "version": "15.14.0"
  }
 },
 "nbformat": 4,
 "nbformat_minor": 5
}
